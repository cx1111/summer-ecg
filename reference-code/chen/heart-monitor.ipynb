{
 "cells": [
  {
   "cell_type": "markdown",
   "metadata": {},
   "source": [
    "https://pypi.python.org/pypi/olimex-ekg-emg"
   ]
  },
  {
   "cell_type": "code",
   "execution_count": null,
   "metadata": {
    "collapsed": true
   },
   "outputs": [],
   "source": [
    "#from olimex.utils import list_serial_ports\n",
    "#from olimex.nb import exg\n",
    "#list_serial_ports()\n",
    "#exg('/dev/ttyS0')\n",
    "# exg('/dev/ttyACM0')\n",
    "# python ecg-plotter.py --device /dev/ttyACM0"
   ]
  },
  {
   "cell_type": "code",
   "execution_count": 12,
   "metadata": {
    "collapsed": true
   },
   "outputs": [],
   "source": [
    "import numpy as np\n",
    "import matplotlib.pyplot as plt\n",
    "import serial\n",
    "import wfdb\n",
    "from peakdetect import PanTompkinsSingle, pantompkinssingle\n",
    "import os\n",
    "%matplotlib qt"
   ]
  },
  {
   "cell_type": "code",
   "execution_count": 13,
   "metadata": {
    "collapsed": true
   },
   "outputs": [],
   "source": [
    "datadir = '/home/cx1111/Projects/workshops/summer-ecg/day2/data/'\n",
    "with open(os.path.join(datadir,'RECORDS')) as f:\n",
    "    recordlist = f.readlines()\n",
    "recordlist = [line.strip() for line in recordlist]"
   ]
  },
  {
   "cell_type": "code",
   "execution_count": 14,
   "metadata": {
    "collapsed": true
   },
   "outputs": [],
   "source": [
    "for rec in recordlist:\n",
    "    record = wfdb.rdsamp(os.path.join(datadir, rec), sampfrom = 60000, sampto = 75000, channels = [0])\n",
    "    sig = record.p_signals#[:,0]\n",
    "    peaklocs = pantompkinssingle(sig, 250)\n",
    "\n",
    "    annotation = wfdb.Annotation('x', 'qrs',peaklocs, 'N')\n",
    "\n",
    "    wfdb.plotrec(record, annotation=annotation, figsize = [20, 8])"
   ]
  },
  {
   "cell_type": "code",
   "execution_count": 27,
   "metadata": {},
   "outputs": [
    {
     "data": {
      "text/plain": [
       "True"
      ]
     },
     "execution_count": 27,
     "metadata": {},
     "output_type": "execute_result"
    }
   ],
   "source": [
    "def ispeak_radius_end(sig, radius):\n",
    "    if sig[-radius-1] == max(sig[-2*radius-1:]):\n",
    "        return True\n",
    "    else:\n",
    "        return False\n",
    "    \n",
    "x = [1,2,3,4,5,10,7,8]\n",
    "\n",
    "ispeak_radius_end(x, 2)\n"
   ]
  },
  {
   "cell_type": "code",
   "execution_count": 10,
   "metadata": {},
   "outputs": [
    {
     "data": {
      "text/plain": [
       "[1, 2, 3, 5]"
      ]
     },
     "execution_count": 10,
     "metadata": {},
     "output_type": "execute_result"
    }
   ],
   "source": [
    "def stuff(x):\n",
    "    x.append(5)\n",
    "    \n",
    "a = [1,2,3]\n",
    "\n",
    "stuff(a)\n",
    "a"
   ]
  },
  {
   "cell_type": "code",
   "execution_count": 12,
   "metadata": {},
   "outputs": [],
   "source": [
    "a = [-2,-1, 2, 3]\n",
    "\n",
    "while True:\n",
    "    if a[0] < 0:\n",
    "        a.pop(0)\n",
    "    else:\n",
    "        break"
   ]
  },
  {
   "cell_type": "code",
   "execution_count": 13,
   "metadata": {},
   "outputs": [
    {
     "data": {
      "text/plain": [
       "[2, 3]"
      ]
     },
     "execution_count": 13,
     "metadata": {},
     "output_type": "execute_result"
    }
   ],
   "source": [
    "a"
   ]
  },
  {
   "cell_type": "code",
   "execution_count": null,
   "metadata": {
    "collapsed": true
   },
   "outputs": [],
   "source": []
  }
 ],
 "metadata": {
  "kernelspec": {
   "display_name": "Python 3",
   "language": "python",
   "name": "python3"
  },
  "language_info": {
   "codemirror_mode": {
    "name": "ipython",
    "version": 3
   },
   "file_extension": ".py",
   "mimetype": "text/x-python",
   "name": "python",
   "nbconvert_exporter": "python",
   "pygments_lexer": "ipython3",
   "version": "3.5.2"
  }
 },
 "nbformat": 4,
 "nbformat_minor": 2
}
